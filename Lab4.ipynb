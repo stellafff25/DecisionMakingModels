{
 "cells": [
  {
   "cell_type": "code",
   "id": "initial_id",
   "metadata": {
    "collapsed": true,
    "ExecuteTime": {
     "end_time": "2025-05-24T09:29:34.506574Z",
     "start_time": "2025-05-24T09:29:34.493708Z"
    }
   },
   "source": "import numpy as np",
   "outputs": [],
   "execution_count": 18
  },
  {
   "metadata": {
    "ExecuteTime": {
     "end_time": "2025-05-24T09:29:34.537621Z",
     "start_time": "2025-05-24T09:29:34.518846Z"
    }
   },
   "cell_type": "code",
   "source": [
    "R1 = np.array([\n",
    "    [1.0, 0.3, 0.4, 0.5, 0.1],\n",
    "    [0.3, 1.0, 0.7, 0.3, 0.7],\n",
    "    [0.9, 0.0, 1.0, 0.9, 0.7],\n",
    "    [0.3, 0.5, 0.6, 1.0, 0.4],\n",
    "    [0.2, 0.5, 0.7, 0.9, 1.0]\n",
    "])\n",
    "\n",
    "R2 = np.array([\n",
    "    [1.0, 0.0, 1.0, 0.0, 0.6],\n",
    "    [0.1, 1.0, 0.5, 0.4, 0.3],\n",
    "    [0.5, 0.7, 1.0, 0.0, 0.7],\n",
    "    [0.5, 0.3, 0.0, 1.0, 0.7],\n",
    "    [0.7, 0.9, 0.8, 0.5, 1.0]\n",
    "])\n",
    "\n",
    "lambda1 = 0.7\n",
    "lambda2 = 0.3"
   ],
   "id": "a3680d89d377794b",
   "outputs": [],
   "execution_count": 19
  },
  {
   "metadata": {
    "ExecuteTime": {
     "end_time": "2025-05-24T09:29:34.569567Z",
     "start_time": "2025-05-24T09:29:34.556039Z"
    }
   },
   "cell_type": "code",
   "source": [
    "Q1 = np.minimum(lambda1 * R1, lambda2 * R2)\n",
    "print(Q1)"
   ],
   "id": "1c7549e7e9608ab1",
   "outputs": [
    {
     "name": "stdout",
     "output_type": "stream",
     "text": [
      "[[0.3  0.   0.28 0.   0.07]\n",
      " [0.03 0.3  0.15 0.12 0.09]\n",
      " [0.15 0.   0.3  0.   0.21]\n",
      " [0.15 0.09 0.   0.3  0.21]\n",
      " [0.14 0.27 0.24 0.15 0.3 ]]\n"
     ]
    }
   ],
   "execution_count": 20
  },
  {
   "metadata": {
    "ExecuteTime": {
     "end_time": "2025-05-24T09:29:34.600755Z",
     "start_time": "2025-05-24T09:29:34.586254Z"
    }
   },
   "cell_type": "code",
   "source": [
    "Q2 = lambda1 * R1 + lambda2 * R2\n",
    "print(Q2)"
   ],
   "id": "c87cf04fde930182",
   "outputs": [
    {
     "name": "stdout",
     "output_type": "stream",
     "text": [
      "[[1.   0.21 0.58 0.35 0.25]\n",
      " [0.24 1.   0.64 0.33 0.58]\n",
      " [0.78 0.21 1.   0.63 0.7 ]\n",
      " [0.36 0.44 0.42 1.   0.49]\n",
      " [0.35 0.62 0.73 0.78 1.  ]]\n"
     ]
    }
   ],
   "execution_count": 21
  },
  {
   "metadata": {
    "ExecuteTime": {
     "end_time": "2025-05-24T09:29:34.631673Z",
     "start_time": "2025-05-24T09:29:34.617963Z"
    }
   },
   "cell_type": "code",
   "source": [
    "def calculate_difference_matrix(Q):\n",
    "    n = Q.shape[0]\n",
    "    Q_revers = np.zeros((n, n), dtype=float)\n",
    "    Q_diff = np.zeros((n, n), dtype=float)\n",
    "\n",
    "    # Reverse the matrix\n",
    "    for i in range(n):\n",
    "        for j in range(n):\n",
    "            Q_revers[i][j] = Q[j][i]\n",
    "\n",
    "    # Compute the difference\n",
    "    for i in range(n):\n",
    "        for j in range(n):\n",
    "            Q_diff[i][j] = Q[i][j] - Q_revers[i][j]\n",
    "            if Q_diff[i][j] < 0:\n",
    "                Q_diff[i][j] = 0\n",
    "\n",
    "    return Q_diff\n",
    "\n",
    "Q1_diff = calculate_difference_matrix(Q1)\n",
    "Q2_diff = calculate_difference_matrix(Q2)"
   ],
   "id": "88dc9a7e4c055c54",
   "outputs": [],
   "execution_count": 22
  },
  {
   "metadata": {
    "ExecuteTime": {
     "end_time": "2025-05-24T09:29:34.663162Z",
     "start_time": "2025-05-24T09:29:34.650101Z"
    }
   },
   "cell_type": "code",
   "source": "print(Q1_diff)",
   "id": "fc41db8c530afee0",
   "outputs": [
    {
     "name": "stdout",
     "output_type": "stream",
     "text": [
      "[[0.   0.   0.13 0.   0.  ]\n",
      " [0.03 0.   0.15 0.03 0.  ]\n",
      " [0.   0.   0.   0.   0.  ]\n",
      " [0.15 0.   0.   0.   0.06]\n",
      " [0.07 0.18 0.03 0.   0.  ]]\n"
     ]
    }
   ],
   "execution_count": 23
  },
  {
   "metadata": {
    "ExecuteTime": {
     "end_time": "2025-05-24T09:29:34.694753Z",
     "start_time": "2025-05-24T09:29:34.681952Z"
    }
   },
   "cell_type": "code",
   "source": "print(Q2_diff)",
   "id": "a997fc95fa749b1f",
   "outputs": [
    {
     "name": "stdout",
     "output_type": "stream",
     "text": [
      "[[0.   0.   0.   0.   0.  ]\n",
      " [0.03 0.   0.43 0.   0.  ]\n",
      " [0.2  0.   0.   0.21 0.  ]\n",
      " [0.01 0.11 0.   0.   0.  ]\n",
      " [0.1  0.04 0.03 0.29 0.  ]]\n"
     ]
    }
   ],
   "execution_count": 24
  },
  {
   "metadata": {
    "ExecuteTime": {
     "end_time": "2025-05-24T09:29:34.741314Z",
     "start_time": "2025-05-24T09:29:34.727361Z"
    }
   },
   "cell_type": "code",
   "source": [
    "def calculate_alternatives(Q_diff):\n",
    "    n = Q_diff.shape[0]\n",
    "    alternatives = np.zeros(n, dtype=float)\n",
    "\n",
    "    for i in range(n):\n",
    "        alternatives[i] = round(1 - max(Q_diff[:, i]), 3)\n",
    "\n",
    "    return alternatives\n",
    "\n",
    "def calculate_alternatives_in_both(alternatives1, alternatives2):\n",
    "    return np.minimum(alternatives1, alternatives2)"
   ],
   "id": "888715f736596f1d",
   "outputs": [],
   "execution_count": 25
  },
  {
   "metadata": {
    "ExecuteTime": {
     "end_time": "2025-05-24T09:29:34.756534Z",
     "start_time": "2025-05-24T09:29:34.747294Z"
    }
   },
   "cell_type": "code",
   "source": [
    "alternatives_Q1 = calculate_alternatives(Q1_diff)\n",
    "alternatives_Q2 = calculate_alternatives(Q2_diff)"
   ],
   "id": "728b756dd49d0b12",
   "outputs": [],
   "execution_count": 26
  },
  {
   "metadata": {
    "ExecuteTime": {
     "end_time": "2025-05-24T09:29:34.802914Z",
     "start_time": "2025-05-24T09:29:34.789102Z"
    }
   },
   "cell_type": "code",
   "source": "print(alternatives_Q1)",
   "id": "172628dfc41364d4",
   "outputs": [
    {
     "name": "stdout",
     "output_type": "stream",
     "text": [
      "[0.85 0.82 0.85 0.97 0.94]\n"
     ]
    }
   ],
   "execution_count": 27
  },
  {
   "metadata": {
    "ExecuteTime": {
     "end_time": "2025-05-24T09:29:34.911949Z",
     "start_time": "2025-05-24T09:29:34.899107Z"
    }
   },
   "cell_type": "code",
   "source": "print(alternatives_Q2)",
   "id": "e314aae7a515f444",
   "outputs": [
    {
     "name": "stdout",
     "output_type": "stream",
     "text": [
      "[0.8  0.89 0.57 0.71 1.  ]\n"
     ]
    }
   ],
   "execution_count": 28
  },
  {
   "metadata": {
    "ExecuteTime": {
     "end_time": "2025-05-24T09:29:34.959065Z",
     "start_time": "2025-05-24T09:29:34.941844Z"
    }
   },
   "cell_type": "code",
   "source": [
    "alternatives_in_Q1_and_Q2 = calculate_alternatives_in_both(alternatives_Q1, alternatives_Q2)\n",
    "\n",
    "print('Alternatives in Q1 and Q2:\\n', alternatives_in_Q1_and_Q2)"
   ],
   "id": "b5e4abc16cc766a5",
   "outputs": [
    {
     "name": "stdout",
     "output_type": "stream",
     "text": [
      "Alternatives in Q1 and Q2:\n",
      " [0.8  0.82 0.57 0.71 0.94]\n"
     ]
    }
   ],
   "execution_count": 29
  }
 ],
 "metadata": {
  "kernelspec": {
   "display_name": "Python 3",
   "language": "python",
   "name": "python3"
  },
  "language_info": {
   "codemirror_mode": {
    "name": "ipython",
    "version": 2
   },
   "file_extension": ".py",
   "mimetype": "text/x-python",
   "name": "python",
   "nbconvert_exporter": "python",
   "pygments_lexer": "ipython2",
   "version": "2.7.6"
  }
 },
 "nbformat": 4,
 "nbformat_minor": 5
}
