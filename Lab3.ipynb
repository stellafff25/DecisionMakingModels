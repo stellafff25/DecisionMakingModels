{
 "cells": [
  {
   "metadata": {},
   "cell_type": "markdown",
   "source": "### Variant 7",
   "id": "1920959ba25d6cd1"
  },
  {
   "metadata": {
    "collapsed": true,
    "ExecuteTime": {
     "end_time": "2025-04-20T11:51:51.874675Z",
     "start_time": "2025-04-20T11:51:51.867906Z"
    }
   },
   "cell_type": "code",
   "source": "import pulp",
   "id": "initial_id",
   "outputs": [],
   "execution_count": 33
  },
  {
   "metadata": {
    "ExecuteTime": {
     "end_time": "2025-04-20T11:51:51.900336Z",
     "start_time": "2025-04-20T11:51:51.886430Z"
    }
   },
   "cell_type": "code",
   "source": "prob = pulp.LpProblem(\"FuzzyLinearProgramming\", pulp.LpMinimize)",
   "id": "e64d9ec4f3375a11",
   "outputs": [],
   "execution_count": 34
  },
  {
   "metadata": {
    "ExecuteTime": {
     "end_time": "2025-04-20T11:51:51.949871Z",
     "start_time": "2025-04-20T11:51:51.934802Z"
    }
   },
   "cell_type": "code",
   "source": [
    "x1 = pulp.LpVariable(\"x1\", lowBound=0)\n",
    "x2 = pulp.LpVariable(\"x2\", lowBound=0)"
   ],
   "id": "a38450b229f49209",
   "outputs": [],
   "execution_count": 35
  },
  {
   "metadata": {
    "ExecuteTime": {
     "end_time": "2025-04-20T11:51:51.984527Z",
     "start_time": "2025-04-20T11:51:51.958275Z"
    }
   },
   "cell_type": "code",
   "source": [
    "prob += 2 * x1 + 5 * x2, \"Objective Function\"\n",
    "prob += x1 + x2 >= 4, \"Constraint 1\"\n",
    "prob += 4 * x1 + 6 * x2 <= 24, \"Constraint 2\"\n",
    "prob += 3 * x1 + 8 * x2 <= 24, \"Constraint 3\""
   ],
   "id": "1c1bbc251c032a05",
   "outputs": [],
   "execution_count": 36
  },
  {
   "metadata": {
    "ExecuteTime": {
     "end_time": "2025-04-20T11:51:52.053125Z",
     "start_time": "2025-04-20T11:51:52.009772Z"
    }
   },
   "cell_type": "code",
   "source": [
    "prob.solve()\n",
    "print(\"Optimal Solution:\")\n",
    "for v in prob.variables():\n",
    "    print(v.name, \"=\", v.varValue)\n",
    "\n",
    "print(\"Optimal Objective Value:\", pulp.value(prob.objective))"
   ],
   "id": "c5a168dd878fe96a",
   "outputs": [
    {
     "name": "stdout",
     "output_type": "stream",
     "text": [
      "Optimal Solution:\n",
      "x1 = 4.0\n",
      "x2 = 0.0\n",
      "Optimal Objective Value: 8.0\n"
     ]
    }
   ],
   "execution_count": 37
  }
 ],
 "metadata": {
  "kernelspec": {
   "display_name": "Python 3",
   "language": "python",
   "name": "python3"
  },
  "language_info": {
   "codemirror_mode": {
    "name": "ipython",
    "version": 2
   },
   "file_extension": ".py",
   "mimetype": "text/x-python",
   "name": "python",
   "nbconvert_exporter": "python",
   "pygments_lexer": "ipython2",
   "version": "2.7.6"
  }
 },
 "nbformat": 4,
 "nbformat_minor": 5
}
