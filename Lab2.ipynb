{
 "cells": [
  {
   "metadata": {},
   "cell_type": "markdown",
   "source": [
    "# Лабораторна робота No 2\n",
    "\n",
    "### Тема роботи: Розв’язування задач багатокритерійної оптимізації.\n",
    "### Мета роботи: вивчення методів розв’язування задач багатокритерійної оптимізації.\n",
    "### Варіант 7"
   ],
   "id": "f3d7e0525cdf2ec8"
  },
  {
   "metadata": {
    "ExecuteTime": {
     "end_time": "2025-03-23T14:38:17.200631Z",
     "start_time": "2025-03-23T14:38:17.190432Z"
    }
   },
   "cell_type": "code",
   "source": [
    "import numpy as np\n",
    "from scipy.optimize import linprog"
   ],
   "id": "c4769fdc242be090",
   "outputs": [],
   "execution_count": 22
  },
  {
   "metadata": {
    "ExecuteTime": {
     "end_time": "2025-03-23T14:38:17.230848Z",
     "start_time": "2025-03-23T14:38:17.211236Z"
    }
   },
   "cell_type": "code",
   "source": [
    "profit = np.array([22, 18, 30])\n",
    "\n",
    "time_matrix = np.array([\n",
    "    [1, 0.9, 1.1, 1.2, 1.5, 0, 0.9, 0, 0],\n",
    "    [0.8, 0.8, 1.3, 0.9, 1.1, 1.3, 1.1, 0.8, 0],\n",
    "    [0, 0.7, 0.7, 0.7, 0, 1.3, 1.3, 0.6, 0]\n",
    "])\n",
    "\n",
    "time_resources = np.array([200, 400, 300])"
   ],
   "id": "489b62c2988a4eae",
   "outputs": [],
   "execution_count": 23
  },
  {
   "metadata": {
    "ExecuteTime": {
     "end_time": "2025-03-23T14:38:17.261915Z",
     "start_time": "2025-03-23T14:38:17.247930Z"
    }
   },
   "cell_type": "code",
   "source": [
    "A_ub = np.vstack([time_matrix, np.ones(9)])\n",
    "b_ub = np.append(time_resources, 500)\n",
    "\n",
    "c = -np.tile(profit, 3)\n",
    "\n",
    "x_bounds = [(0, None)] * 9"
   ],
   "id": "85e3e8cc4853c28c",
   "outputs": [],
   "execution_count": 24
  },
  {
   "metadata": {
    "ExecuteTime": {
     "end_time": "2025-03-23T14:38:17.293233Z",
     "start_time": "2025-03-23T14:38:17.278486Z"
    }
   },
   "cell_type": "code",
   "source": [
    "print(\"Перевірка обмежень\")\n",
    "for i, row in enumerate(A_ub):\n",
    "    print(f\"Обмеження {i + 1}: сума мінімальних потреб {sum(np.minimum(row, b_ub[i]))}, доступно {b_ub[i]}\")"
   ],
   "id": "bd9f063532c375b7",
   "outputs": [
    {
     "name": "stdout",
     "output_type": "stream",
     "text": [
      "Перевірка обмежень\n",
      "Обмеження 1: сума мінімальних потреб 6.6000000000000005, доступно 200\n",
      "Обмеження 2: сума мінімальних потреб 8.100000000000001, доступно 400\n",
      "Обмеження 3: сума мінімальних потреб 5.299999999999999, доступно 300\n",
      "Обмеження 4: сума мінімальних потреб 9.0, доступно 500\n"
     ]
    }
   ],
   "execution_count": 25
  },
  {
   "metadata": {
    "ExecuteTime": {
     "end_time": "2025-03-23T14:38:17.324711Z",
     "start_time": "2025-03-23T14:38:17.311135Z"
    }
   },
   "cell_type": "code",
   "source": "res = linprog(c, A_ub=A_ub, b_ub=b_ub, bounds=x_bounds, method='highs')",
   "id": "98abe7e1be04fc2d",
   "outputs": [],
   "execution_count": 26
  },
  {
   "metadata": {
    "ExecuteTime": {
     "end_time": "2025-03-23T14:38:17.355917Z",
     "start_time": "2025-03-23T14:38:17.343422Z"
    }
   },
   "cell_type": "code",
   "source": [
    "if res.success:\n",
    "    optimal_hours = res.x.reshape(3, 3)\n",
    "    optimal_profit = -res.fun\n",
    "    print(\"Оптимальний розподіл годин:\")\n",
    "    print(optimal_hours)\n",
    "    print(\"Максимальний прибуток:\", optimal_profit)\n",
    "else:\n",
    "    print(\"Не вдалося знайти оптимальне рішення\")\n",
    "    print(\"Статус:\", res.message)"
   ],
   "id": "545658c6f6f650ea",
   "outputs": [
    {
     "name": "stdout",
     "output_type": "stream",
     "text": [
      "Оптимальний розподіл годин:\n",
      "[[  0.   0.   0.]\n",
      " [  0.   0.   0.]\n",
      " [  0.   0. 500.]]\n",
      "Максимальний прибуток: 15000.0\n"
     ]
    }
   ],
   "execution_count": 27
  }
 ],
 "metadata": {
  "kernelspec": {
   "display_name": "Python 3",
   "language": "python",
   "name": "python3"
  },
  "language_info": {
   "codemirror_mode": {
    "name": "ipython",
    "version": 2
   },
   "file_extension": ".py",
   "mimetype": "text/x-python",
   "name": "python",
   "nbconvert_exporter": "python",
   "pygments_lexer": "ipython2",
   "version": "2.7.6"
  }
 },
 "nbformat": 4,
 "nbformat_minor": 5
}
