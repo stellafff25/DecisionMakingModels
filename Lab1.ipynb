{
 "cells": [
  {
   "metadata": {},
   "cell_type": "markdown",
   "source": [
    "# Laboratory work No. 1\n",
    "\n",
    "## Work topic: Binary relations\n",
    "### The purpose of the work: studying the properties of binary relations, operations on relationships, acquiring decision-making skills based on the given relations\n",
    "### Variant 7"
   ],
   "id": "597864bcfbb40d78"
  },
  {
   "metadata": {
    "collapsed": true,
    "ExecuteTime": {
     "end_time": "2025-02-23T11:17:58.253710Z",
     "start_time": "2025-02-23T11:17:58.228699Z"
    }
   },
   "cell_type": "code",
   "source": "import numpy as np",
   "id": "initial_id",
   "outputs": [],
   "execution_count": 44
  },
  {
   "metadata": {
    "ExecuteTime": {
     "end_time": "2025-02-23T11:17:58.272349Z",
     "start_time": "2025-02-23T11:17:58.255709Z"
    }
   },
   "cell_type": "code",
   "source": [
    "R = np.array([[1, 0, 0, 0, 0],\n",
    "             [0, 1, 0, 1, 0],\n",
    "             [1, 1, 1, 1, 1],\n",
    "             [1, 0, 0, 1, 1],\n",
    "             [0, 1, 0, 0, 1]])"
   ],
   "id": "d0b15228e8a2a1e8",
   "outputs": [],
   "execution_count": 45
  },
  {
   "metadata": {},
   "cell_type": "markdown",
   "source": "### Reflexivity",
   "id": "6cbfa421374d6aa1"
  },
  {
   "metadata": {
    "ExecuteTime": {
     "end_time": "2025-02-23T11:17:58.318488Z",
     "start_time": "2025-02-23T11:17:58.296891Z"
    }
   },
   "cell_type": "code",
   "source": [
    "r = 1\n",
    "for i in range(5):\n",
    "    if R[i][i] == 0:\n",
    "        r = 0\n",
    "        break\n",
    "if r:\n",
    "    print(\"The relationship is reflexive\")\n",
    "else:\n",
    "    print(\"The relationship is not reflexive\")"
   ],
   "id": "a4a767da086464c9",
   "outputs": [
    {
     "name": "stdout",
     "output_type": "stream",
     "text": [
      "The relationship is reflexive\n"
     ]
    }
   ],
   "execution_count": 46
  },
  {
   "metadata": {},
   "cell_type": "markdown",
   "source": "### Anti-reflexivity",
   "id": "40989e3e5064f000"
  },
  {
   "metadata": {
    "ExecuteTime": {
     "end_time": "2025-02-23T11:17:58.372586Z",
     "start_time": "2025-02-23T11:17:58.344012Z"
    }
   },
   "cell_type": "code",
   "source": [
    "r = 1\n",
    "for i in range(5):\n",
    "    if R[i][i] == 1:\n",
    "        r = 0\n",
    "        break\n",
    "if r:\n",
    "    print(\"The relationship is anti-reflexive\")\n",
    "else:\n",
    "    print(\"The relationship is not anti-reflexive\")"
   ],
   "id": "37f573300c1a006e",
   "outputs": [
    {
     "name": "stdout",
     "output_type": "stream",
     "text": [
      "The relationship is not anti-reflexive\n"
     ]
    }
   ],
   "execution_count": 47
  },
  {
   "metadata": {},
   "cell_type": "markdown",
   "source": "### Symmetry",
   "id": "47669dbb60d59e0d"
  },
  {
   "metadata": {
    "ExecuteTime": {
     "end_time": "2025-02-23T11:17:58.426921Z",
     "start_time": "2025-02-23T11:17:58.401533Z"
    }
   },
   "cell_type": "code",
   "source": [
    "r = 1\n",
    "for i in range(5):\n",
    "    for j in range(5):\n",
    "        if R[i][j] != R[j][i]:\n",
    "            r = 0\n",
    "            break\n",
    "if r:\n",
    "    print(\"The relationship is symmetrical\")\n",
    "else:\n",
    "    print(\"The relationship is not symmetrical\")"
   ],
   "id": "14c19e77fe8582a3",
   "outputs": [
    {
     "name": "stdout",
     "output_type": "stream",
     "text": [
      "The relationship is not symmetrical\n"
     ]
    }
   ],
   "execution_count": 48
  },
  {
   "metadata": {},
   "cell_type": "markdown",
   "source": "### Anti-symmetry",
   "id": "b0c13cc6ebf1c0ef"
  },
  {
   "metadata": {
    "ExecuteTime": {
     "end_time": "2025-02-23T11:17:58.474765Z",
     "start_time": "2025-02-23T11:17:58.454209Z"
    }
   },
   "cell_type": "code",
   "source": [
    "r = 1\n",
    "for i in range(5):\n",
    "    for j in range(5):\n",
    "        if i != j and R[i][j] == 1 and R[j][i] == 1:\n",
    "            r = 0\n",
    "            break\n",
    "if r:\n",
    "    print(\"The relationship is anti-symmetrical\")\n",
    "else:\n",
    "    print(\"The relationship is not anti-symmetrical\")"
   ],
   "id": "e250168a57309e32",
   "outputs": [
    {
     "name": "stdout",
     "output_type": "stream",
     "text": [
      "The relationship is anti-symmetrical\n"
     ]
    }
   ],
   "execution_count": 49
  },
  {
   "metadata": {},
   "cell_type": "markdown",
   "source": "### Asymmetry",
   "id": "6958ac02a4b2399f"
  },
  {
   "metadata": {
    "ExecuteTime": {
     "end_time": "2025-02-23T11:17:58.526079Z",
     "start_time": "2025-02-23T11:17:58.499359Z"
    }
   },
   "cell_type": "code",
   "source": [
    "r = 1\n",
    "for i in range(5):\n",
    "    for j in range(5):\n",
    "        if R[i][j] == 1 and R[j][i] == 1:\n",
    "            r = 0\n",
    "            break\n",
    "if r:\n",
    "    print(\"The relationship is asymmetrical\")\n",
    "else:\n",
    "    print(\"The relationship is not asymmetrical\")"
   ],
   "id": "3ed22033c405097b",
   "outputs": [
    {
     "name": "stdout",
     "output_type": "stream",
     "text": [
      "The relationship is not asymmetrical\n"
     ]
    }
   ],
   "execution_count": 50
  },
  {
   "metadata": {},
   "cell_type": "markdown",
   "source": "### Transitivity",
   "id": "cc48b0f581200211"
  },
  {
   "metadata": {
    "ExecuteTime": {
     "end_time": "2025-02-23T11:17:58.565346Z",
     "start_time": "2025-02-23T11:17:58.549745Z"
    }
   },
   "cell_type": "code",
   "source": [
    "r = 1\n",
    "R2 = R ** 2\n",
    "for i in range(5):\n",
    "    for j in range(5):\n",
    "        if R2[i][j] <= R[j][i]:\n",
    "            r = 0\n",
    "            break\n",
    "if r:\n",
    "    print(\"The relationship is transitive\")\n",
    "else:\n",
    "    print(\"The relationship is not transitive\")"
   ],
   "id": "7e14821a653f3674",
   "outputs": [
    {
     "name": "stdout",
     "output_type": "stream",
     "text": [
      "The relationship is not transitive\n"
     ]
    }
   ],
   "execution_count": 51
  },
  {
   "metadata": {},
   "cell_type": "markdown",
   "source": "### Inverse Relation",
   "id": "3538a46abcf930f2"
  },
  {
   "metadata": {
    "ExecuteTime": {
     "end_time": "2025-02-23T11:17:58.596416Z",
     "start_time": "2025-02-23T11:17:58.582909Z"
    }
   },
   "cell_type": "code",
   "source": [
    "R_inv = np.zeros((5, 5), dtype=int)\n",
    "for i in range(5):\n",
    "    for j in range(5):\n",
    "        R_inv[i][j] = R[j][i]\n",
    "print(R_inv)"
   ],
   "id": "77436ee1f9bc9d8c",
   "outputs": [
    {
     "name": "stdout",
     "output_type": "stream",
     "text": [
      "[[1 0 1 1 0]\n",
      " [0 1 1 0 1]\n",
      " [0 0 1 0 0]\n",
      " [0 1 1 1 0]\n",
      " [0 0 1 1 1]]\n"
     ]
    }
   ],
   "execution_count": 52
  },
  {
   "metadata": {},
   "cell_type": "markdown",
   "source": "### Additive Relation",
   "id": "eef7af941f326265"
  },
  {
   "metadata": {
    "ExecuteTime": {
     "end_time": "2025-02-23T11:17:58.647662Z",
     "start_time": "2025-02-23T11:17:58.625002Z"
    }
   },
   "cell_type": "code",
   "source": [
    "R_add = 1 - R\n",
    "print(R_add)"
   ],
   "id": "53f298cc455ea402",
   "outputs": [
    {
     "name": "stdout",
     "output_type": "stream",
     "text": [
      "[[0 1 1 1 1]\n",
      " [1 0 1 0 1]\n",
      " [0 0 0 0 0]\n",
      " [0 1 1 0 0]\n",
      " [1 0 1 1 0]]\n"
     ]
    }
   ],
   "execution_count": 53
  },
  {
   "metadata": {},
   "cell_type": "markdown",
   "source": "###  Maximum and Minimum elements",
   "id": "3ba03100205aa2e5"
  },
  {
   "metadata": {
    "ExecuteTime": {
     "end_time": "2025-02-23T11:17:58.693695Z",
     "start_time": "2025-02-23T11:17:58.671591Z"
    }
   },
   "cell_type": "code",
   "source": [
    "R_s = R - R_inv\n",
    "\n",
    "min_elements = np.where(np.all(R_s == 0, axis=0))[0]\n",
    "max_elements = np.where(np.all(R_s == 0, axis=1))[0]\n",
    "\n",
    "if min_elements.size > 0:\n",
    "    print(\"The best elements:\")\n",
    "    for i in min_elements:\n",
    "        print(f\"x_{i+1} \")\n",
    "else:\n",
    "    print(\"No best element\")\n",
    "\n",
    "if max_elements.size > 0:\n",
    "    print(\"The worst elements:\")\n",
    "    for i in max_elements:\n",
    "        print(f\"x_{i+1} \")\n",
    "else:\n",
    "    print(\"No worst element\")"
   ],
   "id": "593c97f683902980",
   "outputs": [
    {
     "name": "stdout",
     "output_type": "stream",
     "text": [
      "No best element\n",
      "No worst element\n"
     ]
    }
   ],
   "execution_count": 54
  },
  {
   "metadata": {},
   "cell_type": "markdown",
   "source": "### Best and Worst elements",
   "id": "d6ef9f9ca52d8d6a"
  },
  {
   "metadata": {
    "ExecuteTime": {
     "end_time": "2025-02-23T11:17:58.740193Z",
     "start_time": "2025-02-23T11:17:58.710109Z"
    }
   },
   "cell_type": "code",
   "source": [
    "best_elements = np.where(np.all(R == 1, axis=1))[0]\n",
    "worst_elements = np.where(np.all(R == 1, axis=0))[0]\n",
    "\n",
    "if best_elements.size > 0:\n",
    "    print(\"The best elements:\")\n",
    "    for i in best_elements:\n",
    "        print(f\"x_{i+1} \")\n",
    "else:\n",
    "    print(\"No best element\")\n",
    "\n",
    "if worst_elements.size > 0:\n",
    "    print(\"The worst elements:\")\n",
    "    for i in best_elements:\n",
    "        print(f\"x_{i+1} \")\n",
    "else:\n",
    "    print(\"No worst element\")"
   ],
   "id": "a26fa94859d677f6",
   "outputs": [
    {
     "name": "stdout",
     "output_type": "stream",
     "text": [
      "The best elements:\n",
      "x_3 \n",
      "No worst element\n"
     ]
    }
   ],
   "execution_count": 55
  }
 ],
 "metadata": {
  "kernelspec": {
   "display_name": "Python 3",
   "language": "python",
   "name": "python3"
  },
  "language_info": {
   "codemirror_mode": {
    "name": "ipython",
    "version": 2
   },
   "file_extension": ".py",
   "mimetype": "text/x-python",
   "name": "python",
   "nbconvert_exporter": "python",
   "pygments_lexer": "ipython2",
   "version": "2.7.6"
  }
 },
 "nbformat": 4,
 "nbformat_minor": 5
}
